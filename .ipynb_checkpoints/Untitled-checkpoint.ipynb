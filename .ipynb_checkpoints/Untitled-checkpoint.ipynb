{
 "cells": [
  {
   "cell_type": "code",
   "execution_count": 1,
   "metadata": {},
   "outputs": [],
   "source": [
    "import pandas as pd\n",
    "import numpy as np\n",
    "from matplotlib import pyplot as plt \n",
    "from scipy import signal\n",
    "from sklearn.cross_decomposition import CCA"
   ]
  },
  {
   "cell_type": "markdown",
   "metadata": {},
   "source": [
    "## Load Dataset"
   ]
  },
  {
   "cell_type": "code",
   "execution_count": 2,
   "metadata": {},
   "outputs": [
    {
     "data": {
      "text/plain": [
       "<bound method NDFrame.head of       Counter        P7        O1        O2        P8          TIME\n",
       "0           0  4578.462  3935.897  3865.641  4278.462  1.606509e+09\n",
       "1           1  4569.231  3936.410  3867.692  4274.359  1.606509e+09\n",
       "2           2  4570.256  3938.462  3856.923  4275.897  1.606509e+09\n",
       "3           3  4569.231  3935.385  3847.692  4269.744  1.606509e+09\n",
       "4           4  4577.436  3946.154  3861.538  4270.769  1.606509e+09\n",
       "...       ...       ...       ...       ...       ...           ...\n",
       "8995       94  4609.744  3960.513  3878.974  4308.205  1.606509e+09\n",
       "8996       95  4600.513  3948.718  3870.256  4290.256  1.606509e+09\n",
       "8997       96  4606.154  3949.231  3871.282  4288.205  1.606509e+09\n",
       "8998       97  4603.590  3950.769  3873.846  4293.846  1.606509e+09\n",
       "8999       98  4596.410  3949.231  3872.308  4292.308  1.606509e+09\n",
       "\n",
       "[9000 rows x 6 columns]>"
      ]
     },
     "execution_count": 2,
     "metadata": {},
     "output_type": "execute_result"
    }
   ],
   "source": [
    "dataset_name = \"sultan_psychopy_recordings/eeg_psychopy_sultan_recording_\" # 0 to 3\n",
    "num_targets = 4\n",
    "targets = [None] * num_targets\n",
    "channels = ['P7', 'O1', 'O2', 'P8'] # data channels\n",
    "for i in range(num_targets):\n",
    "    targets[i] = pd.read_csv(dataset_name+str(i)+'.csv')\n",
    "    targets[i]['Unnamed: 0'] = [i % 129 for i in range(len(targets[i].index))]\n",
    "    targets[i].rename(columns = {'Unnamed: 0': 'Counter'}, inplace=True)\n",
    "targets[0].head"
   ]
  },
  {
   "cell_type": "code",
   "execution_count": 3,
   "metadata": {},
   "outputs": [
    {
     "name": "stdout",
     "output_type": "stream",
     "text": [
      "length target 0 = 9000\n",
      "length target 1 = 9000\n",
      "length target 2 = 9000\n",
      "length target 3 = 9000\n"
     ]
    }
   ],
   "source": [
    "# check size - make sure each target is the same length\n",
    "for i in range(num_targets):\n",
    "    print('length target {} = {}'.format(i, len(targets[i].index)))"
   ]
  },
  {
   "cell_type": "code",
   "execution_count": 4,
   "metadata": {},
   "outputs": [],
   "source": [
    "# copy unfiltered data\n",
    "original_data = [None] * num_targets\n",
    "for i in range(num_targets):\n",
    "    original_data[i] = pd.read_csv(dataset_name+str(i)+'.csv')\n",
    "    original_data[i]['Unnamed: 0'] = [i % 129 for i in range(len(original_data[i].index))]\n",
    "    original_data[i].rename(columns = {'Unnamed: 0': 'Counter'}, inplace=True)"
   ]
  },
  {
   "cell_type": "code",
   "execution_count": null,
   "metadata": {},
   "outputs": [],
   "source": [
    "channels = ['P7', 'O1', 'O2', 'P8']\n",
    "my_colors = ['tab:blue', 'tab:orange', 'tab:green', 'tab:red', 'tab:purple', 'tab:brown', 'tab:pink', 'tab:cyan', 'tab:gray']\n",
    "my_labels = ['Target 0', 'Target 1', 'Target 2', 'Target 3', 'Target 4', 'Target 5', 'Target 6', 'Target 7', 'Neutral Target']\n",
    "\n",
    "def cut_uneven_datasets(df_list):\n",
    "    # use this function if the datasets are of uneven length - chop to minimum df size\n",
    "    cutoff_list = [len(df_list[i].index) for i in range(8)]\n",
    "    cutoff = min(cutoff_list)\n",
    "    for i in range(len(cutoff_list)):\n",
    "        keep_indicies = set(range(df_list[i].shape[0])) - set(range(cutoff, df_list[i].shape[0]))\n",
    "        df_list[i] = df_list[i].take(list(keep_indicies))\n",
    "        # make sure each df same length\n",
    "        print('length of dataset {} = {}'.format(i+1, len(templates[i].index)))\n",
    "\n",
    "\n",
    "\n",
    "# these filtering functions work on each target - only call once\n",
    "def pca_filter(variance=0.2):\n",
    "    for i in range(num_targets):\n",
    "        pca = PCA(variance).fit(targets[i][channels])\n",
    "        components = pca.transform(targets[i][channels])\n",
    "        targets[i][channels] = pd.DataFrame(pca.inverse_transform(components))\n",
    "        \n",
    "def fir_filter(frequencies=None):\n",
    "    # if frequencies are not supplied, assume 1 to 50 Hz. Otherwise filter for the target frequency - cheating\n",
    "    if frequencies is None:\n",
    "        filt = signal.firwin(400, [3.0, 50.0], pass_zero=False, fs=128.0)\n",
    "        for i in range(num_targets):\n",
    "            for channel in channels:\n",
    "                targets[i][channel] = signal.convolve(np.array(targets[i][channel]), filt, mode='same')\n",
    "    # trying to filter each channel based on respective target frequencies\n",
    "    else:\n",
    "        for i in range(num_targets):\n",
    "            band_edges = [frequencies[i]-1.0, frequencies[i]+1.0]\n",
    "            print(band_edges)\n",
    "            for channel in channels:\n",
    "                filt = signal.firwin(400, band_edges, pass_zero=False, fs=128.0)\n",
    "                targets[i][channel] = signal.convolve(targets[i][channel], filt, mode='same')\n",
    "            \n",
    "        \n",
    "def plot_time_all(start=0, end=1000):\n",
    "    # df plot\n",
    "    for i in range(num_targets):\n",
    "        fig, ax = plt.subplots(figsize=(10, 5))\n",
    "        for channel in channels:\n",
    "            targets[i][channel][start:end].plot(y=channel, title='Target {} Signal Over Time'.format(i) if i != 8 else 'Neutral Target Signal')\n",
    "        ax.legend(channels)\n",
    "        # ax.set_xlim(start, end)\n",
    "        ax.autoscale(axis='y', tight=True)\n",
    "        \n",
    "        \n",
    "def plot_channel(target, channel):\n",
    "    # assume dataframe\n",
    "    fig, ax = plt.subplots(figsize=(10, 5))\n",
    "    target[channel].plot(y=channel, title='{} Signal Over Time'.format(channel))\n",
    "        \n",
    "def cut_ends(cutoff=256):\n",
    "    # this function is used after FIR filtering because the ends have extremely high peaks\n",
    "    n = len(targets[0].index)\n",
    "    ind = [i for i in range(cutoff)] + [i for i in range(n-1, n-cutoff-1, -1)]\n",
    "    for i in range(num_targets):\n",
    "        targets[i].drop(index=ind, inplace=True)\n",
    "        targets[i].reset_index(drop=True, inplace=True)\n",
    "        \n",
    "def cut_left_end(cutoff=256):\n",
    "    n = len(targets[0].index)\n",
    "    ind = [i for i in range(cutoff)]\n",
    "    for i in range(num_targets):\n",
    "        targets[i].drop(index=ind, inplace=True)\n",
    "        targets[i].reset_index(drop=True, inplace=True)\n",
    "        \n",
    "        \n",
    "def plot_averages():\n",
    "    # plot all targets all channels on one plot. possibly messy\n",
    "    fig, ax = plt.subplots(figsize=(15, 7))\n",
    "    for i, avg_sig in enumerate(averages_all_targets):\n",
    "        for channel in channels:\n",
    "            avg_sig.plot(x='Counter', y=channel, ax=ax, color=my_colors[i], label=my_labels[i] if channel=='P7' else \"\")\n",
    "    ax.legend()\n",
    "    ax.set_title('Average Signals for All Targets and All Channels')\n",
    "    \n",
    "def plot_target_average(ind):\n",
    "    # all channels for one target - input is index of targets\n",
    "    fig, ax = plt.subplots(figsize=(15, 7))\n",
    "    for j, channel in enumerate(channels):\n",
    "        averages_all_targets[ind].plot(x='Counter', y=channel, ax=ax, color=my_colors[j], label=channel)\n",
    "    ax.set_title('Target {} Average Signal for All Channels'.format(ind) if ind != 8 else 'Neutral Target Average Signal for All Channels')\n",
    "        \n",
    "def plot_averages_by_channel():\n",
    "    # 4 plots, each with 8 targets + neutral\n",
    "    for channel in channels:\n",
    "        fig, ax = plt.subplots(figsize=(15, 7))\n",
    "        for i, avg_sig in enumerate(averages_all_targets):\n",
    "            avg_sig.plot(x='Counter', y=channel, ax=ax, color=my_colors[i], label=my_labels[i])\n",
    "        ax.legend(loc='upper right')\n",
    "        ax.set_title('Channel {} Average Signals for All Targets'.format(channel))\n",
    "\n",
    "\n",
    "def averaging():\n",
    "    averages = []\n",
    "    cols = ['Counter', 'O1', 'O2', 'P7', 'P8']\n",
    "    for target in targets:\n",
    "        average_for_target = pd.DataFrame(columns = cols)\n",
    "        for i in range(128):\n",
    "            o1avg = np.average(target.query('Counter == {}'.format(i))['O1'])\n",
    "            o2avg = np.average(target.query('Counter == {}'.format(i))['O2'])\n",
    "            p7avg = np.average(target.query('Counter == {}'.format(i))['P7'])\n",
    "            p8avg = np.average(target.query('Counter == {}'.format(i))['P8'])\n",
    "            row = {'Counter' : i, 'O1' : o1avg, 'O2' : o2avg, 'P7' : p7avg, 'P8' : p8avg}\n",
    "            average_for_target = average_for_target.append(row, ignore_index=True)\n",
    "        \n",
    "        averages.append(average_for_target)\n",
    "    return averages"
   ]
  }
 ],
 "metadata": {
  "kernelspec": {
   "display_name": "Python 3",
   "language": "python",
   "name": "python3"
  },
  "language_info": {
   "codemirror_mode": {
    "name": "ipython",
    "version": 3
   },
   "file_extension": ".py",
   "mimetype": "text/x-python",
   "name": "python",
   "nbconvert_exporter": "python",
   "pygments_lexer": "ipython3",
   "version": "3.8.3"
  }
 },
 "nbformat": 4,
 "nbformat_minor": 4
}
